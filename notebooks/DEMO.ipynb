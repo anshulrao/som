{
 "cells": [
  {
   "cell_type": "code",
   "execution_count": 1,
   "id": "02e26f81-2ef6-43cf-8f63-cad92818f6ca",
   "metadata": {},
   "outputs": [],
   "source": [
    "from skimage import io\n",
    "from tqdm import tqdm\n",
    "\n",
    "import numpy as np\n",
    "import pandas as pd\n",
    "import matplotlib.pyplot as plt\n",
    "import warnings"
   ]
  },
  {
   "cell_type": "code",
   "execution_count": 2,
   "id": "d0eda6cc-743c-432c-bfb5-c1cbb4522d44",
   "metadata": {},
   "outputs": [],
   "source": [
    "warnings.filterwarnings(\"ignore\")"
   ]
  },
  {
   "cell_type": "code",
   "execution_count": 3,
   "id": "36dd9a9a-44b3-4a1d-ab34-a6b163cbd95e",
   "metadata": {},
   "outputs": [],
   "source": [
    "np.random.seed(42)"
   ]
  },
  {
   "cell_type": "code",
   "execution_count": 4,
   "id": "9a5e3747-7f1a-4539-ae69-62acaf44d3af",
   "metadata": {},
   "outputs": [],
   "source": [
    "NEIGHBOR_SCALE_FACTOR = 10  # the bigger this value, the lesser the weights of neighbours are updated"
   ]
  },
  {
   "cell_type": "code",
   "execution_count": 5,
   "id": "42bd5f6f-b065-4db0-a414-c5a5314aa7d3",
   "metadata": {},
   "outputs": [],
   "source": [
    "LR_DECAY = 5  # the bigger this value, the slower the learning rate decays"
   ]
  },
  {
   "cell_type": "code",
   "execution_count": 6,
   "id": "193240ed-5f45-436b-9e6d-436d1a7fbcf9",
   "metadata": {},
   "outputs": [],
   "source": [
    "# lattice dimensions: M x M\n",
    "M = 3"
   ]
  },
  {
   "cell_type": "code",
   "execution_count": 7,
   "id": "28e4aa92-b87d-48b8-b5c8-7342fafd9fba",
   "metadata": {},
   "outputs": [],
   "source": [
    "def euclidean(x, w):\n",
    "    \"\"\"\n",
    "    Returns euclidean distance.\n",
    "    For computation efficiency, square root is not done.\n",
    "    \n",
    "    \"\"\"\n",
    "    n = len(x)\n",
    "    dist = 0\n",
    "    for i in range(n):\n",
    "        dist += (x[i] - w[i]) ** 2\n",
    "    return dist"
   ]
  },
  {
   "cell_type": "code",
   "execution_count": 8,
   "id": "c922d10f-25c4-4e37-a2e6-649aa637d033",
   "metadata": {},
   "outputs": [],
   "source": [
    "X = np.random.randint(low=0, high=255, size=(1000, 3))"
   ]
  },
  {
   "cell_type": "code",
   "execution_count": 9,
   "id": "d97d4c21-92d0-414f-bd50-7ce5bf5e0aa3",
   "metadata": {},
   "outputs": [
    {
     "data": {
      "text/plain": [
       "<matplotlib.image.AxesImage at 0x2b56202e6a30>"
      ]
     },
     "execution_count": 9,
     "metadata": {},
     "output_type": "execute_result"
    },
    {
     "data": {
      "image/png": "[encoded data removed]",
      "text/plain": [
       "<Figure size 640x480 with 1 Axes>"
      ]
     },
     "metadata": {},
     "output_type": "display_data"
    }
   ],
   "source": [
    "io.imshow(np.uint8(X.reshape(20, len(X)//20, 3)))"
   ]
  },
  {
   "cell_type": "code",
   "execution_count": 10,
   "id": "d1b55174-2c8a-414a-a87d-ad0932c1e9b4",
   "metadata": {},
   "outputs": [],
   "source": [
    "X = X / 255  # scale values"
   ]
  },
  {
   "cell_type": "code",
   "execution_count": 11,
   "id": "8765462c-1e66-4cb4-a99a-c3b97bd1f854",
   "metadata": {},
   "outputs": [],
   "source": [
    "W = np.random.randint(low=0, high=255, size=(9, 3))"
   ]
  },
  {
   "cell_type": "code",
   "execution_count": 12,
   "id": "6bb39f6c-ed22-446c-a6a1-1935345280bf",
   "metadata": {},
   "outputs": [
    {
     "data": {
      "text/plain": [
       "<matplotlib.image.AxesImage at 0x2b56203fe940>"
      ]
     },
     "execution_count": 12,
     "metadata": {},
     "output_type": "execute_result"
    },
    {
     "data": {
      "image/png": "[encoded data removed]",
      "text/plain": [
       "<Figure size 300x300 with 1 Axes>"
      ]
     },
     "metadata": {},
     "output_type": "display_data"
    }
   ],
   "source": [
    "# initialized lattice wihth random weights\n",
    "plt.figure(figsize=(3, 3))\n",
    "io.imshow(np.uint8(W.reshape(3, 3, 3)))"
   ]
  },
  {
   "cell_type": "code",
   "execution_count": 13,
   "id": "ff0c6e27-ffd4-4380-9388-a09fc1070626",
   "metadata": {},
   "outputs": [],
   "source": [
    "W = W / 255"
   ]
  },
  {
   "cell_type": "code",
   "execution_count": 14,
   "id": "0ff6e781-1472-40ff-b5b0-3b61552d735e",
   "metadata": {},
   "outputs": [
    {
     "data": {
      "text/plain": [
       "array([[0.04313725, 0.51764706, 0.88235294],\n",
       "       [0.18431373, 0.14117647, 0.80784314],\n",
       "       [0.16862745, 0.89019608, 0.05490196],\n",
       "       [0.16470588, 0.68627451, 0.3372549 ],\n",
       "       [0.27058824, 0.17647059, 0.94509804],\n",
       "       [0.41960784, 0.47843137, 0.66666667],\n",
       "       [0.9254902 , 0.07843137, 0.58823529],\n",
       "       [0.41568627, 0.96470588, 0.30980392],\n",
       "       [0.18039216, 0.45490196, 0.48235294]])"
      ]
     },
     "execution_count": 14,
     "metadata": {},
     "output_type": "execute_result"
    }
   ],
   "source": [
    "W"
   ]
  },
  {
   "cell_type": "code",
   "execution_count": 15,
   "id": "ed701388-333f-40b3-985a-0a76e1c6fc97",
   "metadata": {},
   "outputs": [],
   "source": [
    "def find_neighbourhood_radius(step):\n",
    "    \"\"\"\n",
    "    Returns the radius that is considered the neigbourhood.\n",
    "    It decreases with each step/iteration.\n",
    "    \n",
    "    \"\"\"\n",
    "    return M - step"
   ]
  },
  {
   "cell_type": "code",
   "execution_count": 16,
   "id": "2890c54c-dc41-4384-a719-a076b57ce698",
   "metadata": {},
   "outputs": [],
   "source": [
    "def find_bmu(x):\n",
    "    \"\"\"\n",
    "    Find the best matching unit by computing euclidean distance\n",
    "    and then return its index.\n",
    "    \n",
    "    \"\"\"\n",
    "    distances = [euclidean(w, x) for w in W]\n",
    "    closest_node = pd.Series(distances).idxmin()\n",
    "    return closest_node"
   ]
  },
  {
   "cell_type": "code",
   "execution_count": 17,
   "id": "22b5395f-7d27-49ea-81b4-5e0dac40e0c9",
   "metadata": {},
   "outputs": [],
   "source": [
    "def update_wt(i, x, lr, scale=1):\n",
    "    \"\"\"\n",
    "    Update the weight at index i based on input x.\n",
    "    The weight can belong to the BMU node or one of its neighbours.\n",
    "    For the neighbours, we use scale to update their weights based on \n",
    "    how far/close they are to BMU.\n",
    "    \n",
    "    \"\"\"\n",
    "    lr /= scale   # if neighbours are far we'd update their weights weakly\n",
    "    w_updated = (W[i] + (lr * (x - W[i])))\n",
    "    W[i] = w_updated"
   ]
  },
  {
   "cell_type": "code",
   "execution_count": 18,
   "id": "90156046-227b-40ed-a201-27034c65120f",
   "metadata": {},
   "outputs": [],
   "source": [
    "# for simplicity it's precomputed which nodes are within the neighbourhood for \n",
    "# each radius of each node as a BMU, alongwith how close they are.\n",
    "# for example, for radius 3 node 0 (as BMU) has node 1 in the neighbourhood at \n",
    "# distance 1 and node 8 in the neigbourhood at distance 2.\n",
    "# similarly, for radius 2 node 0 (as BMU) has node 1 in the neighbourhood at \n",
    "# distance 1 but node 8 is not in the neigbourhood anymore.\n",
    "neigbourhood_dist_map = {\n",
    "    3: {\n",
    "        0: [(1, 1), (2, 2), (3, 1), (4, 1), (5, 2), (6, 2), (7, 2), (8, 2)],\n",
    "        1: [(0, 1), (2, 1), (3, 1), (4, 1), (5, 1), (6, 2), (7, 2), (8, 2)],\n",
    "        2: [(0, 2), (1, 1), (3, 2), (4, 1), (5, 1), (6, 2), (7, 2), (8, 2)],\n",
    "        3: [(0, 1), (1, 1), (2, 2), (4, 1), (5, 2), (6, 1), (7, 1), (8, 2)],\n",
    "        4: [(0, 1), (1, 1), (2, 1), (3, 1), (5, 1), (6, 1), (7, 1), (8, 1)],\n",
    "        5: [(0, 2), (1, 1), (2, 1), (3, 2), (4, 1), (6, 2), (7, 1), (8, 1)],\n",
    "        6: [(0, 2), (1, 2), (2, 2), (3, 1), (4, 1), (5, 2), (7, 1), (8, 2)],\n",
    "        7: [(0, 2), (1, 2), (2, 2), (3, 1), (4, 1), (5, 1), (6, 1), (8, 1)],\n",
    "        8: [(0, 2), (1, 2), (2, 2), (3, 2), (4, 1), (5, 1), (6, 2), (7, 1)],\n",
    "    },\n",
    "    2: {\n",
    "        0: [(1, 1), (3, 1), (4, 1)],\n",
    "        1: [(0, 1), (2, 1), (3, 1), (4, 1), (5, 1)],\n",
    "        2: [(1, 1), (4, 1), (5, 1)],\n",
    "        3: [(0, 1), (1, 1), (4, 1), (6, 1), (7, 1)],\n",
    "        4: [(0, 1), (1, 1), (2, 1), (3, 1), (5, 1), (6, 1), (7, 1), (8, 1)],\n",
    "        5: [(1, 1), (2, 1), (4, 1), (7, 1), (8, 1)],\n",
    "        6: [(3, 1), (4, 1), (7, 1)],\n",
    "        7: [(3, 1), (4, 1), (5, 1), (6, 1), (8, 1)],\n",
    "        8: [(4, 1), (5, 1), (7, 1)]\n",
    "    }\n",
    "}"
   ]
  },
  {
   "cell_type": "code",
   "execution_count": 19,
   "id": "7d17beeb-30a2-4e06-b126-0b44eb6e97b3",
   "metadata": {},
   "outputs": [],
   "source": [
    "def update_neighbourhood_wts(radius, x, bmu_idx, lr):\n",
    "    \"\"\"\n",
    "    For BMU we update the weights of its neighbours within given\n",
    "    radius.\n",
    "    \n",
    "    \"\"\"\n",
    "    if radius == 1:  # bmu has no neighbours\n",
    "        return\n",
    "    neigbours = neigbourhood_dist_map[radius][bmu_idx]\n",
    "    for j, dist in neigbours:  # node at index j is a neighbour at distance dist\n",
    "        update_wt(j, x, lr, dist * NEIGHBOR_SCALE_FACTOR)"
   ]
  },
  {
   "cell_type": "code",
   "execution_count": 20,
   "id": "0bc3a394-a151-4565-b279-6439bd2ca8a1",
   "metadata": {},
   "outputs": [
    {
     "name": "stderr",
     "output_type": "stream",
     "text": [
      "  0%|          | 0/3 [00:00<?, ?it/s]"
     ]
    },
    {
     "name": "stdout",
     "output_type": "stream",
     "text": [
      "[0/3]:\n",
      "learning rate: 0.5\n"
     ]
    },
    {
     "data": {
      "image/png": "[encoded data removed]",
      "text/plain": [
       "<Figure size 300x300 with 1 Axes>"
      ]
     },
     "metadata": {},
     "output_type": "display_data"
    },
    {
     "name": "stderr",
     "output_type": "stream",
     "text": [
      " 33%|███▎      | 1/3 [00:00<00:00,  3.60it/s]"
     ]
    },
    {
     "name": "stdout",
     "output_type": "stream",
     "text": [
      "[1/3]:\n",
      "learning rate: 0.4093653765389909\n"
     ]
    },
    {
     "data": {
      "image/png": "[encoded data removed]",
      "text/plain": [
       "<Figure size 300x300 with 1 Axes>"
      ]
     },
     "metadata": {},
     "output_type": "display_data"
    },
    {
     "name": "stderr",
     "output_type": "stream",
     "text": [
      " 67%|██████▋   | 2/3 [00:00<00:00,  3.90it/s]"
     ]
    },
    {
     "name": "stdout",
     "output_type": "stream",
     "text": [
      "[2/3]:\n",
      "learning rate: 0.2744058180470132\n"
     ]
    },
    {
     "data": {
      "image/png": "[encoded data removed]",
      "text/plain": [
       "<Figure size 300x300 with 1 Axes>"
      ]
     },
     "metadata": {},
     "output_type": "display_data"
    },
    {
     "name": "stderr",
     "output_type": "stream",
     "text": [
      "100%|██████████| 3/3 [00:00<00:00,  4.03it/s]\n"
     ]
    }
   ],
   "source": [
    "lr = 0.5  # learning rate\n",
    "no_of_epochs = 3\n",
    "\n",
    "# training\n",
    "for epoch in tqdm(range(no_of_epochs)):\n",
    "    lr = lr * np.exp(-epoch / 5)  # exponentially decay the learning rate\n",
    "    for x in X:\n",
    "        bmu_idx = find_bmu(x)\n",
    "        update_wt(bmu_idx, x, lr)  # update weight of bmu\n",
    "        update_neighbourhood_wts(find_neighbourhood_radius(epoch), x, bmu_idx, lr)  # update neighbourhood weights\n",
    "    print(f\"[{epoch}/{no_of_epochs}]:\")\n",
    "    print(f\"learning rate: {lr}\")\n",
    "    _W = W * 255\n",
    "    plt.figure(figsize=(3, 3))\n",
    "    io.imshow(np.uint8(_W.reshape(3, 3, 3)))\n",
    "    plt.show()"
   ]
  },
  {
   "cell_type": "code",
   "execution_count": 21,
   "id": "ab073f78-76a3-488f-a40a-6b57273fcb97",
   "metadata": {},
   "outputs": [
    {
     "data": {
      "text/plain": [
       "array([[0.19605144, 0.314093  , 0.79781748],\n",
       "       [0.69175651, 0.19554462, 0.29511884],\n",
       "       [0.28822626, 0.82166184, 0.21398881],\n",
       "       [0.79546632, 0.26781963, 0.78729553],\n",
       "       [0.14087631, 0.39119698, 0.26081086],\n",
       "       [0.49394394, 0.18983355, 0.68000121],\n",
       "       [0.58162156, 0.83314085, 0.65367297],\n",
       "       [0.8222953 , 0.64972292, 0.36366554],\n",
       "       [0.22059098, 0.6882557 , 0.85609524]])"
      ]
     },
     "execution_count": 21,
     "metadata": {},
     "output_type": "execute_result"
    }
   ],
   "source": [
    "W"
   ]
  },
  {
   "cell_type": "code",
   "execution_count": 22,
   "id": "b55df1fe-54b3-472f-895c-e686052f6159",
   "metadata": {},
   "outputs": [],
   "source": [
    "W = W * 255"
   ]
  },
  {
   "cell_type": "code",
   "execution_count": 23,
   "id": "7d0b8c0c-5723-4446-9309-939d1bc77000",
   "metadata": {},
   "outputs": [
    {
     "data": {
      "text/plain": [
       "<matplotlib.image.AxesImage at 0x2b56207da220>"
      ]
     },
     "execution_count": 23,
     "metadata": {},
     "output_type": "execute_result"
    },
    {
     "data": {
      "image/png": "[encoded data removed]",
      "text/plain": [
       "<Figure size 300x300 with 1 Axes>"
      ]
     },
     "metadata": {},
     "output_type": "display_data"
    }
   ],
   "source": [
    "# final lattice\n",
    "plt.figure(figsize=(3, 3))\n",
    "io.imshow(np.uint8(W.reshape(3, 3, 3)))"
   ]
  },
  {
   "cell_type": "markdown",
   "id": "a3646914-6321-46d9-a8be-b69ab87f850d",
   "metadata": {},
   "source": [
    "![red](red_test.png)"
   ]
  },
  {
   "cell_type": "code",
   "execution_count": 24,
   "id": "56599528-a6e3-4961-b09b-bf176ffbe811",
   "metadata": {},
   "outputs": [],
   "source": [
    "x_test = [204, 0, 0]  # shade of red"
   ]
  },
  {
   "cell_type": "code",
   "execution_count": 25,
   "id": "44269679-b3ab-4540-acd8-114178b4c97f",
   "metadata": {},
   "outputs": [
    {
     "data": {
      "text/plain": [
       "1"
      ]
     },
     "execution_count": 25,
     "metadata": {},
     "output_type": "execute_result"
    }
   ],
   "source": [
    "find_bmu(x_test)  # the node at index 1 in our final lattice above has dark red shade :)"
   ]
  },
  {
   "cell_type": "markdown",
   "id": "31c1ab1e-387e-459d-bb4b-9435b7c94c9f",
   "metadata": {},
   "source": [
    "![green](green_test.png)"
   ]
  },
  {
   "cell_type": "code",
   "execution_count": 26,
   "id": "7971650d-940c-4b4f-a490-0c1fdfb94b3b",
   "metadata": {},
   "outputs": [],
   "source": [
    "x_test = [0, 153, 0]  # shade of green"
   ]
  },
  {
   "cell_type": "code",
   "execution_count": 27,
   "id": "922ddb48-ddfd-446b-9bc3-903d9963e59b",
   "metadata": {},
   "outputs": [
    {
     "data": {
      "text/plain": [
       "4"
      ]
     },
     "execution_count": 27,
     "metadata": {},
     "output_type": "execute_result"
    }
   ],
   "source": [
    "find_bmu(x_test)   # the node at index 4 in our final lattice above has dark green shade :)"
   ]
  },
  {
   "cell_type": "markdown",
   "id": "b0b14c91-0ee5-42c8-ac3a-86c172c33021",
   "metadata": {},
   "source": [
    "![blue](blue_test.png)"
   ]
  },
  {
   "cell_type": "code",
   "execution_count": 28,
   "id": "816ee631-a680-49c9-bd56-5c37fdba2d51",
   "metadata": {},
   "outputs": [],
   "source": [
    "x_test = [102, 178, 255]  # shade of blue"
   ]
  },
  {
   "cell_type": "code",
   "execution_count": 29,
   "id": "132b0942-d395-4f2e-98be-6bc88560804b",
   "metadata": {},
   "outputs": [
    {
     "data": {
      "text/plain": [
       "8"
      ]
     },
     "execution_count": 29,
     "metadata": {},
     "output_type": "execute_result"
    }
   ],
   "source": [
    "find_bmu(x_test) # the node at index 8 in our final lattice above has bright blue shade :)"
   ]
  }
 ],
 "metadata": {
  "kernelspec": {
   "display_name": "Python 3 (ipykernel)",
   "language": "python",
   "name": "python3"
  },
  "language_info": {
   "codemirror_mode": {
    "name": "ipython",
    "version": 3
   },
   "file_extension": ".py",
   "mimetype": "text/x-python",
   "name": "python",
   "nbconvert_exporter": "python",
   "pygments_lexer": "ipython3",
   "version": "3.9.10"
  }
 },
 "nbformat": 4,
 "nbformat_minor": 5
}
