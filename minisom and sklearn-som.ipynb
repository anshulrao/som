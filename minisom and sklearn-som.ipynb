{
 "cells": [
  {
   "cell_type": "code",
   "execution_count": 1,
   "id": "286aaf9e-379e-4541-971a-2bebb9830f3e",
   "metadata": {},
   "outputs": [
    {
     "name": "stdout",
     "output_type": "stream",
     "text": [
      "Requirement already satisfied: minisom in /home/rao.ans/.conda/envs/pytorch_env/lib/python3.9/site-packages (2.3.0)\n"
     ]
    }
   ],
   "source": [
    "!pip install minisom"
   ]
  },
  {
   "cell_type": "code",
   "execution_count": 2,
   "id": "593ea234-2cf1-4dc6-9c93-09496ce21855",
   "metadata": {},
   "outputs": [
    {
     "name": "stdout",
     "output_type": "stream",
     "text": [
      "Requirement already satisfied: sklearn_som in /home/rao.ans/.conda/envs/pytorch_env/lib/python3.9/site-packages (1.1.0)\n",
      "Requirement already satisfied: numpy in /home/rao.ans/.conda/envs/pytorch_env/lib/python3.9/site-packages (from sklearn_som) (1.21.5)\n"
     ]
    }
   ],
   "source": [
    "!pip install sklearn_som"
   ]
  },
  {
   "cell_type": "code",
   "execution_count": 3,
   "id": "bd903853-f0f2-417b-a753-3f6d37efd87b",
   "metadata": {},
   "outputs": [],
   "source": [
    "from minisom import MiniSom\n",
    "from sklearn_som.som import SOM\n",
    "from skimage import io\n",
    "\n",
    "import numpy as np\n",
    "import matplotlib.pyplot as plt"
   ]
  },
  {
   "cell_type": "code",
   "execution_count": 4,
   "id": "4ae51622-3791-48b8-a2c9-38422a3c0e77",
   "metadata": {},
   "outputs": [],
   "source": [
    "np.random.seed(42)"
   ]
  },
  {
   "cell_type": "code",
   "execution_count": 5,
   "id": "2f7cdd46-2386-496f-84d2-1dfb5f93d609",
   "metadata": {},
   "outputs": [],
   "source": [
    "X = np.random.randint(low=0, high=255, size=(1000, 3))"
   ]
  },
  {
   "cell_type": "code",
   "execution_count": 6,
   "id": "4b33048c-d69d-422e-8c57-d40c8e7b4d13",
   "metadata": {},
   "outputs": [],
   "source": [
    "X = X / 255"
   ]
  },
  {
   "cell_type": "markdown",
   "id": "a5d9e257-b5c6-4a37-97b3-791272ea7a83",
   "metadata": {},
   "source": [
    "### MiniSom\n",
    "https://github.com/JustGlowing/minisom"
   ]
  },
  {
   "cell_type": "code",
   "execution_count": 7,
   "id": "a4a489a1-b442-4d58-84dd-52e14d99b2e9",
   "metadata": {},
   "outputs": [],
   "source": [
    "som = MiniSom(3, 3, 3, sigma=0.3, learning_rate=0.5) # initialization of 3x3 SOM\n",
    "som.train(X, 100) # trains the SOM with 100 iterations"
   ]
  },
  {
   "cell_type": "code",
   "execution_count": 8,
   "id": "bca60cfb-1e79-4237-9048-d682f20fb115",
   "metadata": {},
   "outputs": [],
   "source": [
    "W = som.get_weights() * 255"
   ]
  },
  {
   "cell_type": "code",
   "execution_count": 9,
   "id": "42c7e44d-0c9c-4abd-b46d-71e73cc05397",
   "metadata": {},
   "outputs": [
    {
     "data": {
      "text/plain": [
       "<matplotlib.image.AxesImage at 0x2ae197351c70>"
      ]
     },
     "execution_count": 9,
     "metadata": {},
     "output_type": "execute_result"
    },
    {
     "data": {
      "image/png": "[encoded data removed]",
      "text/plain": [
       "<Figure size 300x300 with 1 Axes>"
      ]
     },
     "metadata": {},
     "output_type": "display_data"
    }
   ],
   "source": [
    "# final lattice\n",
    "plt.figure(figsize=(3, 3))\n",
    "io.imshow(np.uint8(W))"
   ]
  },
  {
   "cell_type": "markdown",
   "id": "c4d62ea5-6409-4a9c-8d6c-2f756b9f8585",
   "metadata": {},
   "source": [
    "### sklearn-som¶\n",
    "https://github.com/rileypsmith/sklearn-som"
   ]
  },
  {
   "cell_type": "code",
   "execution_count": 10,
   "id": "59ce2b90-e78a-4993-94b1-fd277ad585d5",
   "metadata": {},
   "outputs": [],
   "source": [
    "som = SOM(3, 3, 3)\n",
    "som.fit(X)"
   ]
  },
  {
   "cell_type": "code",
   "execution_count": 11,
   "id": "5434ff14-8eb2-4903-b060-1c8b100a1eb8",
   "metadata": {},
   "outputs": [],
   "source": [
    "W = som.weights"
   ]
  },
  {
   "cell_type": "code",
   "execution_count": 12,
   "id": "f7dcfbbd-51bc-4b69-abd8-0bcad2682224",
   "metadata": {},
   "outputs": [],
   "source": [
    "W = W * 255"
   ]
  },
  {
   "cell_type": "code",
   "execution_count": 13,
   "id": "68e08f90-6d77-46b1-b21e-b3dd52b86218",
   "metadata": {},
   "outputs": [
    {
     "data": {
      "text/plain": [
       "<matplotlib.image.AxesImage at 0x2ae197450cd0>"
      ]
     },
     "execution_count": 13,
     "metadata": {},
     "output_type": "execute_result"
    },
    {
     "data": {
      "image/png": "[encoded data removed]",
      "text/plain": [
       "<Figure size 300x300 with 1 Axes>"
      ]
     },
     "metadata": {},
     "output_type": "display_data"
    }
   ],
   "source": [
    "# final lattice\n",
    "plt.figure(figsize=(3, 3))\n",
    "io.imshow(np.uint8(W.reshape(3, 3, 3)))"
   ]
  }
 ],
 "metadata": {
  "kernelspec": {
   "display_name": "Python 3 (ipykernel)",
   "language": "python",
   "name": "python3"
  },
  "language_info": {
   "codemirror_mode": {
    "name": "ipython",
    "version": 3
   },
   "file_extension": ".py",
   "mimetype": "text/x-python",
   "name": "python",
   "nbconvert_exporter": "python",
   "pygments_lexer": "ipython3",
   "version": "3.9.10"
  }
 },
 "nbformat": 4,
 "nbformat_minor": 5
}
